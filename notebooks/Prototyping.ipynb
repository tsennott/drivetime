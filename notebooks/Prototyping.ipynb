{
 "cells": [
  {
   "cell_type": "markdown",
   "metadata": {},
   "source": [
    "# `drivetime` prototyping"
   ]
  },
  {
   "cell_type": "markdown",
   "metadata": {},
   "source": [
    "## Inputs"
   ]
  },
  {
   "cell_type": "code",
   "execution_count": 92,
   "metadata": {},
   "outputs": [],
   "source": [
    "start = '264 Lee St, Oakland CA'\n",
    "stop = '3542 Bassett St, Santa Clara CA'"
   ]
  },
  {
   "cell_type": "markdown",
   "metadata": {},
   "source": [
    "## Imports"
   ]
  },
  {
   "cell_type": "code",
   "execution_count": 145,
   "metadata": {},
   "outputs": [],
   "source": [
    "from selenium import webdriver\n",
    "import re\n",
    "from datetime import timedelta\n",
    "import sys"
   ]
  },
  {
   "cell_type": "markdown",
   "metadata": {},
   "source": [
    "## Set up driver"
   ]
  },
  {
   "cell_type": "code",
   "execution_count": null,
   "metadata": {},
   "outputs": [],
   "source": [
    "# chrome_options = webdriver.ChromeOptions()\n",
    "# chrome_options.add_argument('--headless')\n",
    "# chrome_options.binary_location = '/usr/bin/google-chrome'\n",
    "# driver = webdriver.Chrome('./chromedriver', options=chrome_options,\n",
    "#                           service_args=['--verbose', '--log-path=/tmp/chromedriver.log'])"
   ]
  },
  {
   "cell_type": "code",
   "execution_count": 6,
   "metadata": {},
   "outputs": [],
   "source": [
    "driver = webdriver.Chrome(executable_path='./chromedriver')"
   ]
  },
  {
   "cell_type": "markdown",
   "metadata": {},
   "source": [
    "## Fetch drivetimes"
   ]
  },
  {
   "cell_type": "code",
   "execution_count": 18,
   "metadata": {},
   "outputs": [
    {
     "data": {
      "text/plain": [
       "'264+Lee+St,+Oakland+CA/3542+Bassett+St,+Santa+Clara+CA'"
      ]
     },
     "execution_count": 18,
     "metadata": {},
     "output_type": "execute_result"
    }
   ],
   "source": [
    "search_string = '{start}/{stop}'.format(start=start.replace(' ', '+'),\n",
    "                                        stop=stop.replace(' ', '+'))\n",
    "search_string"
   ]
  },
  {
   "cell_type": "code",
   "execution_count": 19,
   "metadata": {},
   "outputs": [],
   "source": [
    "driver.get('https://www.google.com/maps/dir/{0}'.format(search_string))"
   ]
  },
  {
   "cell_type": "code",
   "execution_count": 30,
   "metadata": {},
   "outputs": [],
   "source": [
    "elements = driver.find_elements_by_class_name('section-directions-trip-duration')"
   ]
  },
  {
   "cell_type": "code",
   "execution_count": 31,
   "metadata": {},
   "outputs": [],
   "source": [
    "times = []\n",
    "for element in elements:\n",
    "    times.append(element.text)"
   ]
  },
  {
   "cell_type": "code",
   "execution_count": 108,
   "metadata": {},
   "outputs": [],
   "source": [
    "driver.quit()"
   ]
  },
  {
   "cell_type": "code",
   "execution_count": 32,
   "metadata": {},
   "outputs": [
    {
     "name": "stdout",
     "output_type": "stream",
     "text": [
      "['45 min', '46 min', '52 min']\n"
     ]
    }
   ],
   "source": [
    "print(times)"
   ]
  },
  {
   "cell_type": "markdown",
   "metadata": {},
   "source": [
    "## Parse strings"
   ]
  },
  {
   "cell_type": "code",
   "execution_count": 84,
   "metadata": {},
   "outputs": [],
   "source": [
    "test_strings = ['45 min', '2 h 5 min', '1 d 1 min']\n",
    "mapping = {'d': 'days', 'h': 'hours', 'min': 'minutes'}"
   ]
  },
  {
   "cell_type": "code",
   "execution_count": 87,
   "metadata": {},
   "outputs": [
    {
     "data": {
      "text/plain": [
       "[45, 125, 1441]"
      ]
     },
     "execution_count": 87,
     "metadata": {},
     "output_type": "execute_result"
    }
   ],
   "source": [
    "times = []\n",
    "for string in test_strings:\n",
    "    t_strings = re.findall('[0-9]+ [a-z]+', string)\n",
    "    t_dict = {}\n",
    "    if t_strings:\n",
    "        for t_string in t_strings:\n",
    "            for map_in, map_out in mapping.items():\n",
    "                values = re.findall('[0-9]+(?= {0})'.format(map_in), t_string)\n",
    "                if values:\n",
    "                    assert len(values) == 1\n",
    "                    t_dict[map_out] = int(values[0])\n",
    "    \n",
    "    tdelta = timedelta(**t_dict)\n",
    "    times.append(int((tdelta.days * 24 * 60) + (tdelta.seconds / 60)))\n",
    "    \n",
    "times"
   ]
  },
  {
   "cell_type": "markdown",
   "metadata": {},
   "source": [
    "## Build class"
   ]
  },
  {
   "cell_type": "code",
   "execution_count": 148,
   "metadata": {},
   "outputs": [],
   "source": [
    "class drivetime():\n",
    "\n",
    "    def __init__(self, backend='web', autostart=True, mode='headless',\n",
    "                 chromedriver_path=None):\n",
    "        \n",
    "        # backend validation\n",
    "        assert backend in ['web', 'api'], 'Invalid backend argument'\n",
    "        self.backend = backend\n",
    "        \n",
    "        # backend setup\n",
    "        if self.backend == 'web':\n",
    "            if autostart: self._web_start(mode=mode,  \n",
    "                                          chromedriver_path=chromedriver_path)\n",
    "        else:\n",
    "            raise Exception('Backend {0} not implemented yet'.format(backend))\n",
    "            \n",
    "            \n",
    "    def _web_start(self, mode='headless', chromedriver_path=None):\n",
    "        \"\"\"Starts selenium driver\"\"\"\n",
    "        \n",
    "        # default path if not present\n",
    "        if chromedriver_path is None: chromedriver_path='./chromedriver'\n",
    "        \n",
    "        # set options\n",
    "        chrome_options = webdriver.ChromeOptions()\n",
    "        chrome_options.headless = True\n",
    "        \n",
    "        # start driver\n",
    "        self.driver = webdriver.Chrome(chromedriver_path, options=chrome_options)\n",
    "        \n",
    "        \n",
    "    def _web_stop(self):\n",
    "        \"\"\"Stops selenium driver\"\"\"\n",
    "        \n",
    "        self.driver.quit()\n",
    "        \n",
    "        \n",
    "    def _web_parse_gmaps(self, t_string):\n",
    "        \"\"\"Parses time string from gmaps into timedelta\"\"\"\n",
    "        \n",
    "        # abbreviations used in gmaps\n",
    "        abbreviations = {'d': 'days', \n",
    "                         'h': 'hours', \n",
    "                         'min': 'minutes'}\n",
    "        \n",
    "        # break string into parts\n",
    "        t_parts = re.findall('[0-9]+ [a-z]+', t_string)\n",
    "        t_dict = {}\n",
    "        if not t_parts: return None\n",
    "        \n",
    "        # map each part to dictionary for timedelta\n",
    "        for t_part in t_parts:\n",
    "            # for each possible time part\n",
    "            for map_in, map_out in abbreviations.items():\n",
    "                # grab value\n",
    "                values = re.findall('[0-9]+(?= {0})'.format(map_in), t_string)\n",
    "                if values:\n",
    "                    if not len(values) == 1: raise Exception('Failed to parse time string')\n",
    "                    t_dict[map_out] = int(values[0])\n",
    "\n",
    "        # convert to timedelta\n",
    "        tdelta = timedelta(**t_dict)\n",
    "        \n",
    "        # convert to minutes and return\n",
    "        time = int((tdelta.days * 24 * 60) + (tdelta.seconds / 60))\n",
    "        return time\n",
    "    \n",
    "        \n",
    "    def get_time(self, start, end):\n",
    "        \"\"\"Fetches list of drive times in minutes\"\"\"\n",
    "        \n",
    "        # build string for search\n",
    "        search_string = '{start}/{stop}'.format(start=start.replace(' ', '+'),\n",
    "                                                stop=stop.replace(' ', '+'))\n",
    "        \n",
    "        # fetch page\n",
    "        url = 'https://www.google.com/maps/dir/{0}'.format(search_string)\n",
    "        self.driver.get(url)\n",
    "        \n",
    "        # grab each drive time\n",
    "        try:\n",
    "            elements = self.driver.find_elements_by_class_name('section-directions-trip-duration')\n",
    "        except:\n",
    "            raise Exception('Unable to parse page; address is {0}'.format(url))\n",
    "        times = []\n",
    "        for element in elements:\n",
    "            time = self._web_parse_gmaps(element.text)\n",
    "            if time: times.append(time)\n",
    "        if not times: raise Exception('No results; address is {0}'.format(url))\n",
    "            \n",
    "        # return list\n",
    "        return times\n",
    "    \n",
    "    \n",
    "    def cleanup(self):\n",
    "        \"\"\"Closes connections\"\"\"\n",
    "        \n",
    "        if self.backend == 'web':\n",
    "            self._web_stop()\n"
   ]
  },
  {
   "cell_type": "code",
   "execution_count": 150,
   "metadata": {},
   "outputs": [
    {
     "name": "stdout",
     "output_type": "stream",
     "text": [
      "Drive time(s) currently [66, 71, 148] minutes\n"
     ]
    }
   ],
   "source": [
    "dt = drivetime()\n",
    "print('Drive time(s) currently %s minutes' % dt.get_time(start, stop))\n",
    "dt.cleanup()\n"
   ]
  },
  {
   "cell_type": "code",
   "execution_count": null,
   "metadata": {},
   "outputs": [],
   "source": []
  }
 ],
 "metadata": {
  "kernelspec": {
   "display_name": "Python 3",
   "language": "python",
   "name": "python3"
  },
  "language_info": {
   "codemirror_mode": {
    "name": "ipython",
    "version": 3
   },
   "file_extension": ".py",
   "mimetype": "text/x-python",
   "name": "python",
   "nbconvert_exporter": "python",
   "pygments_lexer": "ipython3",
   "version": "3.6.6"
  }
 },
 "nbformat": 4,
 "nbformat_minor": 2
}
